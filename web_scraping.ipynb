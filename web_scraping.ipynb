{
  "nbformat": 4,
  "nbformat_minor": 0,
  "metadata": {
    "colab": {
      "name": "web_scraping.ipynb",
      "provenance": [],
      "collapsed_sections": []
    },
    "kernelspec": {
      "name": "python3",
      "display_name": "Python 3"
    },
    "language_info": {
      "name": "python"
    }
  },
  "cells": [
    {
      "cell_type": "markdown",
      "metadata": {
        "id": "vMY3j-1QOiaG"
      },
      "source": [
        "Importacion de la librerias\n",
        "  "
      ]
    },
    {
      "cell_type": "code",
      "metadata": {
        "colab": {
          "base_uri": "https://localhost:8080/"
        },
        "id": "7KYLfffBPHvF",
        "outputId": "ac17b146-4927-426d-b3f0-38c3ad414dff"
      },
      "source": [
        "pip install requests\n"
      ],
      "execution_count": null,
      "outputs": [
        {
          "output_type": "stream",
          "text": [
            "Requirement already satisfied: requests in /usr/local/lib/python3.7/dist-packages (2.23.0)\n",
            "Requirement already satisfied: certifi>=2017.4.17 in /usr/local/lib/python3.7/dist-packages (from requests) (2020.12.5)\n",
            "Requirement already satisfied: chardet<4,>=3.0.2 in /usr/local/lib/python3.7/dist-packages (from requests) (3.0.4)\n",
            "Requirement already satisfied: idna<3,>=2.5 in /usr/local/lib/python3.7/dist-packages (from requests) (2.10)\n",
            "Requirement already satisfied: urllib3!=1.25.0,!=1.25.1,<1.26,>=1.21.1 in /usr/local/lib/python3.7/dist-packages (from requests) (1.24.3)\n"
          ],
          "name": "stdout"
        }
      ]
    },
    {
      "cell_type": "code",
      "metadata": {
        "id": "gtcYjgVeL2_7"
      },
      "source": [
        "import pandas as pd\n",
        "from bs4 import BeautifulSoup\n",
        "import requests\n",
        "import re\n",
        "\n",
        "keyworksKW = []\n",
        "keyworksSP = []\n",
        "\n",
        "for i in range(1,122):\n",
        "  req = requests.get('https://www.kichwa.net/glossword/index.php/list/1/'+str(i)+'.xhtml')\n",
        "  soup = BeautifulSoup(req.content)\n",
        "  \n",
        "  for links in soup.find_all(\"dt\"):\n",
        "     keyworksKW.append(links.getText().lower())\n",
        "\n",
        "  for links in soup.find_all(\"dd\"):\n",
        "     palabra = repr(links.getText().lower())\n",
        "     palabraSin= palabra.strip(\"'( )'\")\n",
        "     keyworksSP.append(palabraSin)\n",
        "\n",
        "dataset = pd.DataFrame(list(zip(keyworksKW,keyworksSP)),columns=['Kichwa','Spanish'])\n",
        "\n",
        "dataset.to_csv('dataset.csv',)\n",
        "\n"
      ],
      "execution_count": 98,
      "outputs": []
    }
  ]
}